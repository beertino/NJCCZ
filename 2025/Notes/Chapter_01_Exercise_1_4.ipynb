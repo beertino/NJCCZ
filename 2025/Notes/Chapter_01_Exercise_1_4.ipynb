{
 "cells": [
  {
   "cell_type": "markdown",
   "metadata": {},
   "source": [
    "# Exercise 1.4\n",
    "\n",
    "By considering string slicing on the string supercalifragilisticexpialidocious and concatenation of strings, find the substrings of supercalifragilisticexpialidocious such that the string concatenation of all the substrings form the word superstitious."
   ]
  },
  {
   "cell_type": "code",
   "execution_count": null,
   "metadata": {},
   "outputs": [],
   "source": []
  }
 ],
 "metadata": {
  "language_info": {
   "name": "python"
  }
 },
 "nbformat": 4,
 "nbformat_minor": 2
}
