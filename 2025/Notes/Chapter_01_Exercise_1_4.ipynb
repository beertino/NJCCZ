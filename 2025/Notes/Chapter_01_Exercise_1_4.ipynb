{
 "cells": [
  {
   "cell_type": "markdown",
   "metadata": {},
   "source": [
    "# Exercise 1.4\n",
    "\n",
    "By considering string slicing on the string supercalifragilisticexpialidocious and concatenation of strings, find the substrings of supercalifragilisticexpialidocious such that the string concatenation of all the substrings form the word superstitious."
   ]
  },
  {
   "cell_type": "code",
   "execution_count": null,
   "metadata": {},
   "outputs": [
    {
     "name": "stdout",
     "output_type": "stream",
     "text": [
      "superstitious\n"
     ]
    }
   ],
   "source": [
    "#joan code\n",
    "import re\n",
    "\n",
    "word = \"supercalifragilisticexpialidocious\"\n",
    "super_match = re.search(\"super\", word)\n",
    "sti_match = re.search(\"sti\", word)\n",
    "t_match = re.search(\"t\", word)\n",
    "ious_match = re.search(\"ious\", word)\n",
    "\n",
    "print(word[super_match.start():super_match.end()] + word[sti_match.start():sti_match.end()] + word[t_match.start():t_match.end()] + word[ious_match.start():ious_match.end()])"
   ]
  }
 ],
 "metadata": {
  "kernelspec": {
   "display_name": "Python 3",
   "language": "python",
   "name": "python3"
  },
  "language_info": {
   "codemirror_mode": {
    "name": "ipython",
    "version": 3
   },
   "file_extension": ".py",
   "mimetype": "text/x-python",
   "name": "python",
   "nbconvert_exporter": "python",
   "pygments_lexer": "ipython3",
   "version": "3.12.1"
  }
 },
 "nbformat": 4,
 "nbformat_minor": 2
}
