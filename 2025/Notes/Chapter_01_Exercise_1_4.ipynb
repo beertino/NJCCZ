{
 "cells": [
  {
   "cell_type": "markdown",
   "metadata": {},
   "source": [
    "# Exercise 1.4\n",
    "\n",
    "By considering string slicing on the string supercalifragilisticexpialidocious and concatenation of strings, find the substrings of supercalifragilisticexpialidocious such that the string concatenation of all the substrings form the word superstitious."
   ]
  },
  {
   "cell_type": "code",
   "execution_count": 1,
   "metadata": {},
   "outputs": [
    {
     "name": "stdout",
     "output_type": "stream",
     "text": [
      "superstitious\n"
     ]
    }
   ],
   "source": [
    "# Your code\n",
    "word = \"supercalifragilisticexpialidocious\"\n",
    "split1 = word[word.index(\"super\"):(word.index(\"super\")+len(\"super\"))]\n",
    "split2 = word[word.index(\"sti\"):(word.index(\"sti\")+len(\"sti\"))]\n",
    "split3 = \"t\"\n",
    "split4 = word[word.index(\"ious\"):(word.index(\"ious\")+len(\"ious\"))]\n",
    "\n",
    "print(split1+split2+split3+split4)"
   ]
  }
 ],
 "metadata": {
  "kernelspec": {
   "display_name": "Python 3",
   "language": "python",
   "name": "python3"
  },
  "language_info": {
   "codemirror_mode": {
    "name": "ipython",
    "version": 3
   },
   "file_extension": ".py",
   "mimetype": "text/x-python",
   "name": "python",
   "nbconvert_exporter": "python",
   "pygments_lexer": "ipython3",
   "version": "3.7.0"
  }
 },
 "nbformat": 4,
 "nbformat_minor": 2
}
