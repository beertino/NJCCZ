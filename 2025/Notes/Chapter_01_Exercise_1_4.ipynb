{
 "cells": [
  {
   "cell_type": "markdown",
   "metadata": {},
   "source": [
    "# Exercise 1.4\n",
    "\n",
    "By considering string slicing on the string supercalifragilisticexpialidocious and concatenation of strings, find the substrings of supercalifragilisticexpialidocious such that the string concatenation of all the substrings form the word superstitious."
   ]
  },
  {
   "cell_type": "code",
   "execution_count": null,
   "metadata": {},
   "outputs": [
    {
     "name": "stdout",
     "output_type": "stream",
     "text": [
      "superstitious\n"
     ]
    }
   ],
   "source": [
    "# Exercise 1.4\n",
    "# Gareth\n",
    "#super | califragili| sti | cexpialidocious\n",
    "#superstitious\n",
    "\n",
    "word = \"supercalifragilisticexpialidocious\"\n",
    "super_substring = word[:5]\n",
    "sti_substring = word[16:19]\n",
    "t_substring = \"t\"\n",
    "ious_substring = word[-4:]\n",
    "\n",
    "print(f\"{super_substring}{sti_substring}{t_substring}{ious_substring}\")"
   ]
  }
 ],
 "metadata": {
  "kernelspec": {
   "display_name": "Python 3",
   "language": "python",
   "name": "python3"
  },
  "language_info": {
   "codemirror_mode": {
    "name": "ipython",
    "version": 3
   },
   "file_extension": ".py",
   "mimetype": "text/x-python",
   "name": "python",
   "nbconvert_exporter": "python",
   "pygments_lexer": "ipython3",
   "version": "3.12.1"
  }
 },
 "nbformat": 4,
 "nbformat_minor": 2
}
