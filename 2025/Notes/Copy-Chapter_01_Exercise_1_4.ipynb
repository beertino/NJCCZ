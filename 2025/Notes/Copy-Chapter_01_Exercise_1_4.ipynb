{
 "cells": [
  {
   "cell_type": "code",
   "execution_count": null,
   "metadata": {},
   "outputs": [],
   "source": [
    "string = \"supercalifragilisticexpialidocious\"\n",
    "newstring = string[0:5]+string[16:19]+string[17:19]+string[31:]\n",
    "print(newstring)"
   ]
  }
 ],
 "metadata": {
  "language_info": {
   "name": "python"
  }
 },
 "nbformat": 4,
 "nbformat_minor": 2
}
