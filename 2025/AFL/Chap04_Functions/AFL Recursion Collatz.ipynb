{
 "cells": [
  {
   "cell_type": "markdown",
   "id": "00ce8557",
   "metadata": {},
   "source": [
    "# Recursion\n",
    "\n",
    "## Collatz Conjecture\n",
    "The Collatz Conjecture is applied to positive integers and speculates that it is always possible to get \"back to 1\" if you follow these steps:\n",
    "- If $n$ is 1, stop.\n",
    "- Otherwise, if $n$ is even, repeat this process on $n/2$.\n",
    "- Otherwise, if $n$ is odd, repeat this process on $3n+1$.\n",
    "\n",
    "Write a recursive function `collatz(n)` that calculates how many steps it takes to get to 1 if you start from $n$ and recurse as indicated above."
   ]
  },
  {
   "cell_type": "code",
   "execution_count": 5,
   "id": "0acbaa89",
   "metadata": {},
   "outputs": [
    {
     "data": {
      "text/plain": [
       "111"
      ]
     },
     "execution_count": 5,
     "metadata": {},
     "output_type": "execute_result"
    }
   ],
   "source": [
    "def collatz(n: int)->int:\n",
    "    if n == 1:\n",
    "        return 0\n",
    "    elif n % 2 == 0:\n",
    "        return 1 + collatz(n//2)\n",
    "    else:\n",
    "        return 1 + collatz(3*n+1)\n",
    "\n",
    "collatz(27)"
   ]
  },
  {
   "cell_type": "markdown",
   "id": "6475f083",
   "metadata": {},
   "source": [
    "| `n` |`collatz(n)`| Steps                                                      |\n",
    "|:---:|:----------:|:-----------------------------------------------------------|\n",
    "| 1   |    0       |1                                                           |\n",
    "| 2   |    1       |2->1                                                        |\n",
    "| 3   |    7       |3->10->5->16->8->4->2->1                                    |\n",
    "| 4   |    2       |4->2->1                                                     |\n",
    "| 5   |    5       |5->16->8->4->2->1                                           |\n",
    "| 6   |    8       |6->3->10->5->16->8->4->2->1                                 |\n",
    "| 7   |    16      |7->22->11->34->17->52->26->13->40->20->10->5->16->8->4->2->1|"
   ]
  },
  {
   "cell_type": "markdown",
   "id": "f01a349a",
   "metadata": {},
   "source": [
    "```python\n",
    "c(6) -> 1 + c(3) -> 1 + c(10) ->  1 + c(5) -> 1 + c(16) \n",
    "->  1 + c(8) -> 1 + c(4) ->  1 + c(2) ->  1 + c(1) -> 0 \n",
    "```"
   ]
  },
  {
   "cell_type": "code",
   "execution_count": 2,
   "id": "4bedf978",
   "metadata": {},
   "outputs": [
    {
     "name": "stdout",
     "output_type": "stream",
     "text": [
      "x = 5\n"
     ]
    }
   ],
   "source": [
    "x = 5\n",
    "# print(f'{x = }')\n",
    "print(f'x = {x}')"
   ]
  }
 ],
 "metadata": {
  "kernelspec": {
   "display_name": "base",
   "language": "python",
   "name": "python3"
  },
  "language_info": {
   "codemirror_mode": {
    "name": "ipython",
    "version": 3
   },
   "file_extension": ".py",
   "mimetype": "text/x-python",
   "name": "python",
   "nbconvert_exporter": "python",
   "pygments_lexer": "ipython3",
   "version": "3.11.5"
  }
 },
 "nbformat": 4,
 "nbformat_minor": 5
}
