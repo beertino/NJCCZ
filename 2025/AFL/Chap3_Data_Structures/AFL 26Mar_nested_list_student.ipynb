{
 "cells": [
  {
   "cell_type": "markdown",
   "metadata": {},
   "source": [
    "For instance, given the following square grid of 5 integers:\n",
    "\n",
    "![5 x 5 square grid](square_grid_highlighted.png \"5 x 5 square grid\")\n",
    "\n",
    "We can identify 2 sets of 3 integers that are consecutive (ascending or descending)."
   ]
  },
  {
   "cell_type": "markdown",
   "metadata": {},
   "source": [
    "Name your Jupyter Notebook as:\n",
    "\n",
    "`TASK1_<your name>.ipynb`\n",
    "\n",
    "The task is to process a square grid of integers (0-9) and identify patterns of 3 numbers that are consecutive (e.g. 012, 789)."
   ]
  },
  {
   "cell_type": "markdown",
   "metadata": {},
   "source": [
    "For each of the sub-tasks, add a comment statement at the beginning of the code using the hash symbol ‘#’, to indicate the sub-task the program code belongs to, for example:"
   ]
  },
  {
   "cell_type": "markdown",
   "metadata": {},
   "source": [
    "> `#Task 1.1`\\\n",
    "> Program code"
   ]
  },
  {
   "cell_type": "markdown",
   "metadata": {},
   "source": [
    "## Task 1.1\n",
    "Create a 2-dimensional list `grid` where each row contains the integers of the sample square grid provided above."
   ]
  },
  {
   "cell_type": "code",
   "execution_count": null,
   "metadata": {},
   "outputs": [],
   "source": []
  },
  {
   "cell_type": "markdown",
   "metadata": {},
   "source": [
    "## Task 1.2\n",
    "Write program code that counts the total occurrences of three consecutive integers (either in ascending or descending order) that appear horizontally or vertically in the given square grid from Task 1.1.\n",
    "\n",
    "Output the result with an appropriate statement. Your program should work for a $n \\times n$ square grid as well.\n"
   ]
  },
  {
   "cell_type": "code",
   "execution_count": null,
   "metadata": {},
   "outputs": [],
   "source": []
  },
  {
   "cell_type": "markdown",
   "metadata": {},
   "source": [
    "Test your program using the square grid below\n",
    "```python\n",
    "[6, 1, 9, 8, 4]\n",
    "[5, 1, 8, 7, 6]\n",
    "[4, 8, 7, 2, 1]\n",
    "[5, 6, 6, 5, 2]\n",
    "[7, 0, 1, 2, 0]\n",
    "```"
   ]
  }
 ],
 "metadata": {
  "kernelspec": {
   "display_name": "Python 3",
   "language": "python",
   "name": "python3"
  },
  "language_info": {
   "codemirror_mode": {
    "name": "ipython",
    "version": 3
   },
   "file_extension": ".py",
   "mimetype": "text/x-python",
   "name": "python",
   "nbconvert_exporter": "python",
   "pygments_lexer": "ipython3",
   "version": "3.11.3"
  }
 },
 "nbformat": 4,
 "nbformat_minor": 2
}
