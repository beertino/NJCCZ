{
 "cells": [
  {
   "cell_type": "code",
   "execution_count": null,
   "id": "5956e1f8",
   "metadata": {
    "vscode": {
     "languageId": "plaintext"
    }
   },
   "outputs": [],
   "source": [
    "import csv\n",
    "medal_count = {}\n",
    "with open(\"NOI_24_RESULT.csv\",'r') as file:\n",
    "    read = csv.reader(file)\n",
    "    for line in read:\n",
    "        schoolname = line[1]\n",
    "        medal = line[2]\n",
    "        if schoolname in medal_count:\n",
    "            if medal == 'GOLD':\n",
    "                medal_count[schoolname] = (medal_count[schoolname][0]+1,medal_count[schoolname][1],medal_count[schoolname][2])\n",
    "            elif medal == 'SILVER':\n",
    "                medal_count[schoolname] = (medal_count[schoolname][0],medal_count[schoolname][1]+1,medal_count[schoolname][2])\n",
    "            elif medal == 'BRONZE':\n",
    "                medal_count[schoolname] = (medal_count[schoolname][0],medal_count[schoolname][1],medal_count[schoolname][2]+1)\n",
    "        else:\n",
    "            if medal == 'GOLD':\n",
    "                medal_count[schoolname] = (1,0,0)\n",
    "            elif medal == 'SILVER':\n",
    "                medal_count[schoolname] = (0,1,0)\n",
    "            elif medal == 'BRONZE':\n",
    "                medal_count[schoolname] = (0,0,1)\n",
    "medalcount1 = [k for k, v in sorted(medal_count.items(), key=lambda item: item[1], reverse=True)]\n",
    "print(medal_count)\n",
    "print(medalcount1[:5])"
   ]
  }
 ],
 "metadata": {
  "language_info": {
   "name": "python"
  }
 },
 "nbformat": 4,
 "nbformat_minor": 5
}
