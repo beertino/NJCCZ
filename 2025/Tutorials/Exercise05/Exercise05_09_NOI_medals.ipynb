{
 "cells": [
  {
   "cell_type": "markdown",
   "id": "4e6a874f",
   "metadata": {},
   "source": [
    "## Exercise 5.9\n",
    "\n",
    "A text file, `NOI_24_RESULT.txt` contains the results of the medallist recipients for the 24th National Olympiad in Informatics.\n",
    "\n",
    "Write a code to:\n",
    "\n",
    "- read the data from the text file,\n",
    "- store the school name and medal counts in a Python dictionary `medal_count` where the school name is the key and the associated value is a tuple of the form `(GOLD, SILVER, BRONZE)`,\n",
    "- print out the top 5 school with the highest number of medals won, regardless of the medal type. "
   ]
  },
  {
   "cell_type": "code",
   "execution_count": null,
   "id": "29381517",
   "metadata": {},
   "outputs": [],
   "source": [
    "import csv\n",
    "medal_count = {}\n",
    "with open(\"NOI_24_RESULT.csv\",'r') as file:\n",
    "    read = csv.reader(file)\n",
    "    for line in read:\n",
    "        schoolname = line[1]\n",
    "        medal = line[2]\n",
    "        if schoolname in medal_count:\n",
    "            if medal == 'GOLD':\n",
    "                medal_count[schoolname] = (medal_count[schoolname][0]+1,medal_count[schoolname][1],medal_count[schoolname][2])\n",
    "            elif medal == 'SILVER':\n",
    "                medal_count[schoolname] = (medal_count[schoolname][0],medal_count[schoolname][1]+1,medal_count[schoolname][2])\n",
    "            elif medal == 'BRONZE':\n",
    "                medal_count[schoolname] = (medal_count[schoolname][0],medal_count[schoolname][1],medal_count[schoolname][2]+1)\n",
    "        else:\n",
    "            if medal == 'GOLD':\n",
    "                medal_count[schoolname] = (1,0,0)\n",
    "            elif medal == 'SILVER':\n",
    "                medal_count[schoolname] = (0,1,0)\n",
    "            elif medal == 'BRONZE':\n",
    "                medal_count[schoolname] = (0,0,1)\n",
    "medalcount1 = [k for k, v in sorted(medal_count.items(), key=lambda item: item[1], reverse=True)]\n",
    "print(medal_count)\n",
    "print(medalcount1[:5])"
   ]
  }
 ],
 "metadata": {
  "language_info": {
   "name": "python"
  }
 },
 "nbformat": 4,
 "nbformat_minor": 5
}
